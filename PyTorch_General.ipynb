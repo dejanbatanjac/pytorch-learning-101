{
  "nbformat": 4,
  "nbformat_minor": 0,
  "metadata": {
    "colab": {
      "name": "PyTorch General",
      "version": "0.3.2",
      "provenance": [],
      "collapsed_sections": [],
      "include_colab_link": true
    },
    "kernelspec": {
      "name": "python3",
      "display_name": "Python 3"
    },
    "accelerator": "GPU"
  },
  "cells": [
    {
      "cell_type": "markdown",
      "metadata": {
        "id": "view-in-github",
        "colab_type": "text"
      },
      "source": [
        "<a href=\"https://colab.research.google.com/github/dejanbatanjac/pytorch-learning-101/blob/master/PyTorch_General.ipynb\" target=\"_parent\"><img src=\"https://colab.research.google.com/assets/colab-badge.svg\" alt=\"Open In Colab\"/></a>"
      ]
    },
    {
      "metadata": {
        "id": "tjDCEYTP_Wic",
        "colab_type": "code",
        "outputId": "f452f479-b3f0-4f1e-d973-19aa0c39b48b",
        "colab": {
          "base_uri": "https://localhost:8080/",
          "height": 35
        }
      },
      "cell_type": "code",
      "source": [
        "# check if you have GPU\n",
        "import torch\n",
        "torch.cuda.is_available()"
      ],
      "execution_count": 0,
      "outputs": [
        {
          "output_type": "execute_result",
          "data": {
            "text/plain": [
              "True"
            ]
          },
          "metadata": {
            "tags": []
          },
          "execution_count": 1
        }
      ]
    },
    {
      "metadata": {
        "id": "0-vdXd-sKONu",
        "colab_type": "code",
        "outputId": "038b0e97-192d-43a2-bcfe-f2d983d9d7ad",
        "colab": {
          "base_uri": "https://localhost:8080/",
          "height": 235
        }
      },
      "cell_type": "code",
      "source": [
        "# unsqueeze\n",
        "import torch\n",
        "x = torch.tensor([1, 2, 3, 4])\n",
        "print(x,x.shape)\n",
        "print(torch.unsqueeze(x, 0),torch.unsqueeze(x, 0).shape)\n",
        "print(torch.unsqueeze(x, 1),torch.unsqueeze(x, 1).shape)\n",
        "\n",
        "print(\"...\")\n",
        "print(x.view(-1,1), x.view(-1,1).shape)\n",
        "print(x.view(1,-1), x.view(1,-1).shape)\n"
      ],
      "execution_count": 0,
      "outputs": [
        {
          "output_type": "stream",
          "text": [
            "tensor([1, 2, 3, 4]) torch.Size([4])\n",
            "tensor([[1, 2, 3, 4]]) torch.Size([1, 4])\n",
            "tensor([[1],\n",
            "        [2],\n",
            "        [3],\n",
            "        [4]]) torch.Size([4, 1])\n",
            "...\n",
            "tensor([[1],\n",
            "        [2],\n",
            "        [3],\n",
            "        [4]]) torch.Size([4, 1])\n",
            "tensor([[1, 2, 3, 4]]) torch.Size([1, 4])\n"
          ],
          "name": "stdout"
        }
      ]
    },
    {
      "metadata": {
        "id": "iMYwJsrXDpC6",
        "colab_type": "code",
        "colab": {}
      },
      "cell_type": "code",
      "source": [
        "from torch.utils.data import DataLoader, Dataset\n",
        "import numpy as np\n",
        "\n",
        "x1 = np.array([13,3,28,24,33,2,3,62,47,58])\n",
        "x2 = np.array([15,21,30,27,17,3,3,54,54,44])\n",
        "x3 = np.array([32,2,27,19,2,3,32,3,60,47])\n",
        "\n",
        "#stack multiple tensors using np.stack\n",
        "\n",
        "md = DataLoader( np.stack([x1,x2,x3], axis=1), batch_size=512)\n",
        "#??np.stack\n"
      ],
      "execution_count": 0,
      "outputs": []
    },
    {
      "metadata": {
        "id": "kFVQ0WKMV9zt",
        "colab_type": "code",
        "outputId": "27c64986-2c40-4ddb-98c0-3761075b5cf0",
        "colab": {
          "base_uri": "https://localhost:8080/",
          "height": 108
        }
      },
      "cell_type": "code",
      "source": [
        "import torch\n",
        "a = [i for i in range(50)]\n",
        "b = [i for i in range(50)]\n",
        "c = [i for i in range(50)]\n",
        "\n",
        "#h\n",
        "A = torch.Tensor(a)\n",
        "B = torch.FloatTensor(b)\n",
        "C = torch.FloatTensor(c)\n",
        "h=[A,B,C]\n",
        "\n",
        "print(len(h))\n",
        "print(h[0].size(), h[0])"
      ],
      "execution_count": 0,
      "outputs": [
        {
          "output_type": "stream",
          "text": [
            "3\n",
            "torch.Size([50]) tensor([ 0.,  1.,  2.,  3.,  4.,  5.,  6.,  7.,  8.,  9., 10., 11., 12., 13.,\n",
            "        14., 15., 16., 17., 18., 19., 20., 21., 22., 23., 24., 25., 26., 27.,\n",
            "        28., 29., 30., 31., 32., 33., 34., 35., 36., 37., 38., 39., 40., 41.,\n",
            "        42., 43., 44., 45., 46., 47., 48., 49.])\n"
          ],
          "name": "stdout"
        }
      ]
    },
    {
      "metadata": {
        "id": "mzmjR888wCME",
        "colab_type": "code",
        "outputId": "8ff88437-5a26-4e08-d0dd-0b98af45b731",
        "colab": {
          "base_uri": "https://localhost:8080/",
          "height": 345
        }
      },
      "cell_type": "code",
      "source": [
        "import torch \n",
        "import torch.utils.data as utils\n",
        "import numpy as np\n",
        "\n",
        "\n",
        "# from np.array to tensor\n",
        "np_x = [np.array([[1,2],[1,3]]),np.array([[5,6],[7,8]])] # a list of numpy arrays\n",
        "np_y = [np.array([2]), np.array([3])] # another list of numpy arrays (targets)\n",
        "\n",
        "tx = torch.stack([torch.Tensor(i) for i in np_x]) # transform to torch tensors\n",
        "ty = torch.stack([torch.Tensor(i) for i in np_y])\n",
        "\n",
        "print(\"tensor x:\", tx)\n",
        "print(\"tensor y:\", ty)\n",
        "print(\"tensor x shape:\", tx.shape)\n",
        "print(\"tensor y shape:\", ty.shape)\n",
        "\n",
        "# Dataset is an abstract class. We cannot use it directly.\n",
        "# We use TensorDataset class.\n",
        "# The tensor(s) in there should have the same size of the first dimension.\n",
        "\n",
        "# create datset\n",
        "ds = utils.TensorDataset(tx, ty) \n",
        "\n",
        "# try setting shuffle=False|True\n",
        "dl = utils.DataLoader(ds, batch_size=1, shuffle=False) \n",
        "\n",
        "\n",
        "# DataLoader knows the batch size. Try setting {1|2} instead\n",
        "dl = utils.DataLoader(ds, batch_size=2, shuffle=True) \n",
        "\n",
        "\n",
        "it =iter(dl)\n",
        "works = True\n",
        "while works:\n",
        "    try:\n",
        "        *r, l = next(it)\n",
        "        print(\"--\")\n",
        "        print(r)\n",
        "        print(l)\n",
        "        \n",
        "\n",
        "    except Exception as e:\n",
        "        print(e)\n",
        "        works = False\n"
      ],
      "execution_count": 0,
      "outputs": [
        {
          "output_type": "stream",
          "text": [
            "tensor x: tensor([[[1., 2.],\n",
            "         [1., 3.]],\n",
            "\n",
            "        [[5., 6.],\n",
            "         [7., 8.]]])\n",
            "tensor y: tensor([[2.],\n",
            "        [3.]])\n",
            "tensor x shape: torch.Size([2, 2, 2])\n",
            "tensor y shape: torch.Size([2, 1])\n",
            "--\n",
            "[tensor([[[5., 6.],\n",
            "         [7., 8.]],\n",
            "\n",
            "        [[1., 2.],\n",
            "         [1., 3.]]])]\n",
            "tensor([[3.],\n",
            "        [2.]])\n",
            "\n"
          ],
          "name": "stdout"
        }
      ]
    },
    {
      "metadata": {
        "id": "TQPajDyqVm4q",
        "colab_type": "code",
        "outputId": "eb263750-9552-45d7-f546-7ec95c4ea552",
        "colab": {
          "base_uri": "https://localhost:8080/",
          "height": 392
        }
      },
      "cell_type": "code",
      "source": [
        "import torch \n",
        "import torch.utils.data as utils\n",
        "\n",
        "# from list to tensor\n",
        "l_x = [ [[1,2],[1,3]], [[5,6],[7,8]] ] # a list of numpy arrays\n",
        "l_y = [ [2],[2]] # another list of numpy arrays (targets)\n",
        "\n",
        "# transform to torch tensors\n",
        "tx = torch.stack([torch.Tensor(i) for i in l_x]) \n",
        "ty = torch.stack([torch.Tensor(i) for i in l_y])\n",
        "\n",
        "print(tx)\n",
        "print(ty)\n",
        "print(tx.shape, ty.shape)\n",
        "\n",
        "# Dataset is an abstract class. We cannot use it directly.\n",
        "# We use TensorDataset class.\n",
        "# The tensor(s) in there should have the same size of the first dimension.\n",
        "\n",
        "# create datset\n",
        "ds = utils.TensorDataset(tx, ty) \n",
        "# create dataloader\n",
        "dl = utils.DataLoader(ds, batch_size=1, shuffle=True) \n",
        "\n",
        "# print what we have inside\n",
        "print(\"==\")\n",
        "for i in ds: print(i)\n",
        "print(type(i))\n",
        "print(\"==\")\n",
        "for i in dl: print(i)\n",
        "print(type(i))\n",
        "    "
      ],
      "execution_count": 0,
      "outputs": [
        {
          "output_type": "stream",
          "text": [
            "tensor([[[1., 2.],\n",
            "         [1., 3.]],\n",
            "\n",
            "        [[5., 6.],\n",
            "         [7., 8.]]])\n",
            "tensor([[2.],\n",
            "        [2.]])\n",
            "torch.Size([2, 2, 2]) torch.Size([2, 1])\n",
            "==\n",
            "(tensor([[1., 2.],\n",
            "        [1., 3.]]), tensor([2.]))\n",
            "(tensor([[5., 6.],\n",
            "        [7., 8.]]), tensor([2.]))\n",
            "<class 'tuple'>\n",
            "==\n",
            "[tensor([[[5., 6.],\n",
            "         [7., 8.]]]), tensor([[2.]])]\n",
            "[tensor([[[1., 2.],\n",
            "         [1., 3.]]]), tensor([[2.]])]\n",
            "<class 'list'>\n"
          ],
          "name": "stdout"
        }
      ]
    },
    {
      "metadata": {
        "id": "tteSJcj1LmR6",
        "colab_type": "code",
        "outputId": "37d2ee4a-94c5-4e20-b4ed-12f5e96fdfe3",
        "colab": {
          "base_uri": "https://localhost:8080/",
          "height": 53
        }
      },
      "cell_type": "code",
      "source": [
        "import torch\n",
        "import torch.nn as nn\n",
        "\n",
        "tensor = torch.randn((1, 2), requires_grad=True)\n",
        "\n",
        "print(torch.tanh(tensor))\n",
        "print(nn.Tanh()(tensor))\n",
        "\n",
        "#nn.functional.tanh is deprecated\n",
        "#print(torch.nn.functional.tanh(tensor))"
      ],
      "execution_count": 0,
      "outputs": [
        {
          "output_type": "stream",
          "text": [
            "tensor([[0.8146, 0.7732]], grad_fn=<TanhBackward>)\n",
            "tensor([[0.8146, 0.7732]], grad_fn=<TanhBackward>)\n"
          ],
          "name": "stdout"
        }
      ]
    },
    {
      "metadata": {
        "id": "UlDWW98_csWg",
        "colab_type": "code",
        "outputId": "dc332dc5-bbc7-4668-b8c1-64a87cb26eac",
        "colab": {
          "base_uri": "https://localhost:8080/",
          "height": 90
        }
      },
      "cell_type": "code",
      "source": [
        "import torch\n",
        "\n",
        "\n",
        "x = torch.zeros(2,1,2,1,2)\n",
        "print(x.size())\n",
        "\n",
        "# all dimensions of size 1 will be removed\n",
        "y = torch.squeeze(x)\n",
        "print(y.size())\n",
        "\n",
        "# we may specify particular dimension to squeeze\n",
        "# in here 0 will not do anything\n",
        "y = torch.squeeze(x, 0)\n",
        "print(y.size())\n",
        "\n",
        "# we may specify particular dimension to squeeze\n",
        "# in here 1 will squeeze single dimension\n",
        "y = torch.squeeze(x, 1)\n",
        "print(y.size())"
      ],
      "execution_count": 0,
      "outputs": [
        {
          "output_type": "stream",
          "text": [
            "torch.Size([2, 1, 2, 1, 2])\n",
            "torch.Size([2, 2, 2])\n",
            "torch.Size([2, 1, 2, 1, 2])\n",
            "torch.Size([2, 2, 1, 2])\n"
          ],
          "name": "stdout"
        }
      ]
    },
    {
      "metadata": {
        "id": "GlWTvkgxcDis",
        "colab_type": "code",
        "outputId": "98631f38-8fde-4441-bae4-9e77c4fd440c",
        "colab": {
          "base_uri": "https://localhost:8080/",
          "height": 53
        }
      },
      "cell_type": "code",
      "source": [
        "# * \n",
        "*bb, bbb = [1,2,3,4,5,6,7]\n",
        "print(bb)\n",
        "print(bbb)"
      ],
      "execution_count": 0,
      "outputs": [
        {
          "output_type": "stream",
          "text": [
            "[1, 2, 3, 4, 5, 6]\n",
            "7\n"
          ],
          "name": "stdout"
        }
      ]
    },
    {
      "metadata": {
        "id": "HiVV1bYme71J",
        "colab_type": "code",
        "outputId": "60722d0c-aa6c-4896-ded0-d0c8de9778bc",
        "colab": {
          "base_uri": "https://localhost:8080/",
          "height": 163
        }
      },
      "cell_type": "code",
      "source": [
        "import torch\n",
        "\n",
        "\n",
        "x = torch.zeros(2,1)\n",
        "print(x.size())\n",
        "print(x)\n",
        "\n",
        "# all dimensions of size 1 will be removed\n",
        "y = torch.squeeze(x)\n",
        "print(y.size())\n",
        "print(y)\n",
        "\n",
        "# to be same as x\n",
        "z = torch.unsqueeze(y, dim=1)\n",
        "print(z.size())\n",
        "print(z)\n",
        "\n"
      ],
      "execution_count": 0,
      "outputs": [
        {
          "output_type": "stream",
          "text": [
            "torch.Size([2, 1])\n",
            "tensor([[0.],\n",
            "        [0.]])\n",
            "torch.Size([2])\n",
            "tensor([0., 0.])\n",
            "torch.Size([2, 1])\n",
            "tensor([[0.],\n",
            "        [0.]])\n"
          ],
          "name": "stdout"
        }
      ]
    },
    {
      "metadata": {
        "id": "bK9iFxjRS-eM",
        "colab_type": "code",
        "outputId": "fbd63c02-70ab-4fb6-9ec6-b1a0084d605b",
        "colab": {
          "base_uri": "https://localhost:8080/",
          "height": 72
        }
      },
      "cell_type": "code",
      "source": [
        "# from np.array -> tensor\n",
        "import numpy as np\n",
        "import torch\n",
        "\n",
        "#a = np.array([1, 2, 3])\n",
        "a = np.random.rand(3,2)\n",
        "t = torch.from_numpy(a)\n",
        "print(t)\n",
        "\n"
      ],
      "execution_count": 0,
      "outputs": [
        {
          "output_type": "stream",
          "text": [
            "tensor([[0.0307, 0.9624],\n",
            "        [0.8289, 0.9290],\n",
            "        [0.4454, 0.1031]], dtype=torch.float64)\n"
          ],
          "name": "stdout"
        }
      ]
    },
    {
      "metadata": {
        "id": "oXMyzWPhhDpl",
        "colab_type": "code",
        "outputId": "cd0859cb-446b-4406-a197-306fd598058d",
        "colab": {
          "base_uri": "https://localhost:8080/",
          "height": 90
        }
      },
      "cell_type": "code",
      "source": [
        "print(torch.__version__) #1.0.1.post2\n",
        "#stacking example\n",
        "a = torch.randn(2,3,4)\n",
        "b = torch.randn(2,3)\n",
        "print(a.size())\n",
        "print(b.size())\n",
        "b = torch.unsqueeze(b, dim=2)  # 2, 3, 1\n",
        "print(b.size())\n",
        "\n"
      ],
      "execution_count": 0,
      "outputs": [
        {
          "output_type": "stream",
          "text": [
            "1.0.1.post2\n",
            "torch.Size([2, 3, 4])\n",
            "torch.Size([2, 3])\n",
            "torch.Size([2, 3, 1])\n"
          ],
          "name": "stdout"
        }
      ]
    },
    {
      "metadata": {
        "id": "kGkY7fEyzPyI",
        "colab_type": "code",
        "outputId": "2625f860-a637-428e-e2b2-3cc94a7cd760",
        "colab": {
          "base_uri": "https://localhost:8080/",
          "height": 235
        }
      },
      "cell_type": "code",
      "source": [
        "import torch\n",
        "print(torch.__version__) # 1.0.1.post2\n",
        "#stacking example\n",
        "a = torch.randn(2,3,4)\n",
        "b = torch.randn(2,3)\n",
        "print(a.size()) # 2, 3, 4\n",
        "print(b.size()) # 2, 3\n",
        "b = torch.unsqueeze(b, dim=2)  \n",
        "print(b.size()) # 2, 3, 1\n",
        "\n",
        "r = torch.cat((a,b), dim=2)\n",
        "# r = torch.stack([a, b], dim=2 )\n",
        "print(r.shape)\n",
        "print(r)"
      ],
      "execution_count": 0,
      "outputs": [
        {
          "output_type": "stream",
          "text": [
            "1.0.1.post2\n",
            "torch.Size([2, 3, 4])\n",
            "torch.Size([2, 3])\n",
            "torch.Size([2, 3, 1])\n",
            "torch.Size([2, 3, 5])\n",
            "tensor([[[ 0.0139,  0.6015, -1.6427,  0.9218, -0.4895],\n",
            "         [-1.4400,  1.8444,  0.5984,  1.7035, -0.7307],\n",
            "         [-0.4477, -0.0331, -1.7182, -1.9063,  0.6845]],\n",
            "\n",
            "        [[ 0.2214,  0.3788, -1.1672,  0.4438, -0.6435],\n",
            "         [ 0.9548,  1.5609,  1.2947,  0.5860,  0.7537],\n",
            "         [ 1.5375, -0.5452, -0.9654,  1.0114,  0.2838]]])\n"
          ],
          "name": "stdout"
        }
      ]
    },
    {
      "metadata": {
        "id": "vbJ1ugXXh0k5",
        "colab_type": "code",
        "outputId": "ae3be17d-ad6d-4521-949e-a9c79520e4c3",
        "colab": {
          "base_uri": "https://localhost:8080/",
          "height": 108
        }
      },
      "cell_type": "code",
      "source": [
        "#transpose 2D Tensor (dimensions 0 <=> 1)\n",
        "x = torch.randn(2, 3)\n",
        "print(x)\n",
        "y = torch.t(x)\n",
        "print(y)\n",
        "\n"
      ],
      "execution_count": 0,
      "outputs": [
        {
          "output_type": "stream",
          "text": [
            "tensor([[ 0.7538,  0.3490,  0.4196],\n",
            "        [ 0.8518,  0.2454, -0.4683]])\n",
            "tensor([[ 0.7538,  0.8518],\n",
            "        [ 0.3490,  0.2454],\n",
            "        [ 0.4196, -0.4683]])\n"
          ],
          "name": "stdout"
        }
      ]
    },
    {
      "metadata": {
        "id": "8Ov5jJnumeyt",
        "colab_type": "code",
        "outputId": "5e8caf3a-a258-4a9c-949b-05ec40537a6c",
        "colab": {
          "base_uri": "https://localhost:8080/",
          "height": 35
        }
      },
      "cell_type": "code",
      "source": [
        "#get tensor based on indices\n",
        "\n",
        "arr=torch.tensor([[1,2],[4,5],[7,8]])\n",
        "indices_arr=torch.tensor([0,1,0])\n",
        "\n",
        "ret=arr[[0,1,2],indices_arr]\n",
        "print(ret, type(ret))"
      ],
      "execution_count": 0,
      "outputs": [
        {
          "output_type": "stream",
          "text": [
            "tensor([1, 5, 7]) <class 'torch.Tensor'>\n"
          ],
          "name": "stdout"
        }
      ]
    },
    {
      "metadata": {
        "id": "WJWLA4fVUyPG",
        "colab_type": "code",
        "outputId": "722c1db8-ec4e-461d-c5ce-dacb63c29463",
        "colab": {
          "base_uri": "https://localhost:8080/",
          "height": 163
        }
      },
      "cell_type": "code",
      "source": [
        "import torch\n",
        "\n",
        "a = torch.Tensor([1,2,3,4,5])\n",
        "print(a.shape)\n",
        "print(a)\n",
        "\n",
        "a.unsqueeze_(dim=1)\n",
        "print(a.shape)\n",
        "print(a)\n",
        "\n",
        "# a.unsqueeze_(dim=0)\n",
        "# print(a.shape)\n",
        "# print(a)\n",
        "\n"
      ],
      "execution_count": 0,
      "outputs": [
        {
          "output_type": "stream",
          "text": [
            "torch.Size([5])\n",
            "tensor([1., 2., 3., 4., 5.])\n",
            "torch.Size([5, 1])\n",
            "tensor([[1.],\n",
            "        [2.],\n",
            "        [3.],\n",
            "        [4.],\n",
            "        [5.]])\n"
          ],
          "name": "stdout"
        }
      ]
    },
    {
      "metadata": {
        "id": "sCnB6IyV1U66",
        "colab_type": "code",
        "colab": {
          "base_uri": "https://localhost:8080/",
          "height": 90
        },
        "outputId": "fab3934a-6eec-43b7-f933-e685e4272cf8"
      },
      "cell_type": "code",
      "source": [
        "# smart indexing example\n",
        "import torch\n",
        "\n",
        "x = torch.arange(0, 10, dtype=torch.float)\n",
        "print(x)\n",
        "\n",
        "# getting indexes idx where x>=5\n",
        "idx = x>=5\n",
        "print(idx, type(idx))\n",
        "\n",
        "# log on values where x was >=5\n",
        "x[idx] = torch.log(x[idx])\n",
        "print(x)"
      ],
      "execution_count": 10,
      "outputs": [
        {
          "output_type": "stream",
          "text": [
            "tensor([0., 1., 2., 3., 4., 5., 6., 7., 8., 9.])\n",
            "tensor([0, 0, 0, 0, 0, 1, 1, 1, 1, 1], dtype=torch.uint8) <class 'torch.Tensor'>\n",
            "tensor([0.0000, 1.0000, 2.0000, 3.0000, 4.0000, 1.6094, 1.7918, 1.9459, 2.0794,\n",
            "        2.1972])\n"
          ],
          "name": "stdout"
        }
      ]
    }
  ]
}