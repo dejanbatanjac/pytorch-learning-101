{
  "nbformat": 4,
  "nbformat_minor": 0,
  "metadata": {
    "colab": {
      "name": "PyTorch nn.Module",
      "version": "0.3.2",
      "provenance": [],
      "collapsed_sections": [],
      "include_colab_link": true
    },
    "kernelspec": {
      "name": "python3",
      "display_name": "Python 3"
    },
    "accelerator": "GPU"
  },
  "cells": [
    {
      "cell_type": "markdown",
      "metadata": {
        "id": "view-in-github",
        "colab_type": "text"
      },
      "source": [
        "<a href=\"https://colab.research.google.com/github/dejanbatanjac/pytorch-learning-101/blob/master/PyTorch_nn_Module.ipynb\" target=\"_parent\"><img src=\"https://colab.research.google.com/assets/colab-badge.svg\" alt=\"Open In Colab\"/></a>"
      ]
    },
    {
      "metadata": {
        "id": "s2BIFmvo19EO",
        "colab_type": "code",
        "colab": {
          "base_uri": "https://localhost:8080/",
          "height": 55
        },
        "outputId": "f9aeab0e-6e67-40be-e80c-c8e641577ad6"
      },
      "cell_type": "code",
      "source": [
        "import torch\n",
        "import torch.nn as nn\n",
        "\n",
        "class Module0(torch.nn.Module):\n",
        "    def __init__(self):\n",
        "        super().__init__()\n",
        "        \n",
        "    # we don't return a thing (read:None), and don't take a thing\n",
        "    def forward(self)->None: \n",
        "        print(\"Module0:forward\")\n",
        "        \n",
        "# we create a module instance m0\n",
        "m0 = Module0().cuda()\n",
        "\n",
        "# we explicitely run the forward method\n",
        "m0.forward()\n",
        "        \n",
        "m0 = Module0().cuda() \n",
        "m0()\n",
        "\n",
        "\n",
        "    \n"
      ],
      "execution_count": 2,
      "outputs": [
        {
          "output_type": "stream",
          "text": [
            "Module0:forward\n",
            "Module0:forward\n"
          ],
          "name": "stdout"
        }
      ]
    },
    {
      "metadata": {
        "id": "NeiQibqG2Q7M",
        "colab_type": "code",
        "colab": {
          "base_uri": "https://localhost:8080/",
          "height": 280
        },
        "outputId": "138e34f6-dd62-49bc-c788-3272acf981a2"
      },
      "cell_type": "code",
      "source": [
        "# these are identical\n",
        "m0()\n",
        "m0.forward()\n",
        "\n",
        "# 10 times\n",
        "print(\"10 more times\")\n",
        "[m0() for i in range(10)]\n",
        "\n"
      ],
      "execution_count": 13,
      "outputs": [
        {
          "output_type": "stream",
          "text": [
            "Module0:forward\n",
            "Module0:forward\n",
            "10 more times\n",
            "Module0:forward\n",
            "Module0:forward\n",
            "Module0:forward\n",
            "Module0:forward\n",
            "Module0:forward\n",
            "Module0:forward\n",
            "Module0:forward\n",
            "Module0:forward\n",
            "Module0:forward\n",
            "Module0:forward\n"
          ],
          "name": "stdout"
        },
        {
          "output_type": "execute_result",
          "data": {
            "text/plain": [
              "[None, None, None, None, None, None, None, None, None, None]"
            ]
          },
          "metadata": {
            "tags": []
          },
          "execution_count": 13
        }
      ]
    },
    {
      "metadata": {
        "id": "MdKa46zZ2NML",
        "colab_type": "code",
        "colab": {
          "base_uri": "https://localhost:8080/",
          "height": 36
        },
        "outputId": "4df48e39-dbe4-4e52-8e6d-68f2cf1a43ec"
      },
      "cell_type": "code",
      "source": [
        "# This is how we count the number of parameters\n",
        "# Just for the record we don't have any parameter\n",
        "# in m0\n",
        "t = [o.numel() for o in m0.parameters() ]\n",
        "t, sum(t)"
      ],
      "execution_count": 17,
      "outputs": [
        {
          "output_type": "execute_result",
          "data": {
            "text/plain": [
              "([], 0)"
            ]
          },
          "metadata": {
            "tags": []
          },
          "execution_count": 17
        }
      ]
    },
    {
      "metadata": {
        "id": "Vtj4KNF1V0wP",
        "colab_type": "code",
        "colab": {}
      },
      "cell_type": "code",
      "source": [
        "import torch\n",
        "import torch.nn as nn\n",
        "\n",
        "# Creating the single linear layer = one matrix tranformation\n",
        "class Module1(torch.nn.Module):\n",
        "    def __init__(self):\n",
        "        super().__init__()\n",
        "        self.l1 = nn.Linear(10,100)        \n",
        "        \n",
        "    # we don't return a thing (read:None), and don't take a thing\n",
        "    def forward(self)->None: \n",
        "        print(\"Module1:forward\")\n",
        "        \n",
        "# we create a module instance m1\n",
        "m1 = Module1().cuda()\n",
        "\n"
      ],
      "execution_count": 0,
      "outputs": []
    },
    {
      "metadata": {
        "id": "o5DnHRlwVsHu",
        "colab_type": "code",
        "colab": {
          "base_uri": "https://localhost:8080/",
          "height": 36
        },
        "outputId": "9b522c67-6a74-49f1-905b-7fd2cfd6abec"
      },
      "cell_type": "code",
      "source": [
        "t = [p.numel() for p in m1.parameters() if p.requires_grad ]\n",
        "t, sum(t)\n",
        "\n",
        "#([1000, 100], 1100)\n",
        "# 1000 parameters in W and 100 in b and 1100 in total"
      ],
      "execution_count": 4,
      "outputs": [
        {
          "output_type": "execute_result",
          "data": {
            "text/plain": [
              "([1000, 100], 1100)"
            ]
          },
          "metadata": {
            "tags": []
          },
          "execution_count": 4
        }
      ]
    },
    {
      "metadata": {
        "id": "2gXqvS1QYNZ5",
        "colab_type": "code",
        "colab": {}
      },
      "cell_type": "code",
      "source": [
        "import torch\n",
        "import torch.nn as nn\n",
        "\n",
        "# adding few more different layers\n",
        "class Module2(nn.Module):\n",
        "    def __init__(self):\n",
        "        super().__init__()\n",
        "        self.l1 = nn.Linear(50*50,100)\n",
        "        self.l2 = nn.ReLU()\n",
        "        self.l3 = nn.Linear(100,100)\n",
        "        self.l4 = nn.Tanh()        \n",
        "        self.l5 = nn.Linear(100,10) \n",
        "        self.l6 = nn.LogSoftmax()\n",
        "        \n",
        "    # we don't return a thing (read:None), and don't take a thing\n",
        "    def forward(self)->None: \n",
        "        print(\"Module2:forward\")\n",
        "        \n",
        "# we create a module instance m2\n",
        "m2 = Module2().cuda()\n",
        "\n"
      ],
      "execution_count": 0,
      "outputs": []
    },
    {
      "metadata": {
        "id": "7MXCzv178THE",
        "colab_type": "code",
        "colab": {
          "base_uri": "https://localhost:8080/",
          "height": 36
        },
        "outputId": "203fe615-457c-4a3b-d61a-b3b1c19e3ff7"
      },
      "cell_type": "code",
      "source": [
        "#params analysis\n",
        "t = [p.numel() for p in m2.parameters() ]\n",
        "t, sum(t)\n",
        "\n",
        "#([250000, 100, 10000, 100, 1000, 10], 261210)\n",
        "# total number of parameter is ~ 261K"
      ],
      "execution_count": 20,
      "outputs": [
        {
          "output_type": "execute_result",
          "data": {
            "text/plain": [
              "([250000, 100, 10000, 100, 1000, 10], 261210)"
            ]
          },
          "metadata": {
            "tags": []
          },
          "execution_count": 20
        }
      ]
    },
    {
      "metadata": {
        "id": "xrBtLtDehvdR",
        "colab_type": "code",
        "colab": {}
      },
      "cell_type": "code",
      "source": [
        "# let's rewrite our Module2 and create Module3\n",
        "# showing that what is in the __init__(self) method\n",
        "# is actually a sequential network\n",
        "\n",
        "import torch\n",
        "import torch.nn as nn\n",
        "\n",
        "sn = torch.nn.Sequential(\n",
        "        nn.Linear(50*50,100), \n",
        "        nn.ReLU(),\n",
        "        nn.Linear(100,100),\n",
        "        nn.Tanh(),        \n",
        "        nn.Linear(100,10), \n",
        "        nn.LogSoftmax()\n",
        ").cuda()\n",
        "        \n",
        "# adding few more different layers\n",
        "class Module3(nn.Module):\n",
        "    def __init__(self):\n",
        "        super().__init__()\n",
        "        self.l1 = sn\n",
        "        \n",
        "    # we don't return a thing (read:None), and don't take a thing\n",
        "    def forward(self)->None: \n",
        "        print(\"Module3:forward\")\n",
        "        \n",
        "# we create a module instance m2\n",
        "m3 = Module3().cuda()"
      ],
      "execution_count": 0,
      "outputs": []
    },
    {
      "metadata": {
        "id": "SQcD-8qenB9X",
        "colab_type": "code",
        "colab": {
          "base_uri": "https://localhost:8080/",
          "height": 36
        },
        "outputId": "94669bca-9c6d-4c1d-b0c5-88a0dc756cb0"
      },
      "cell_type": "code",
      "source": [
        "#params analysis\n",
        "t = [p.numel() for p in m3.parameters() ]\n",
        "t, sum(t)"
      ],
      "execution_count": 32,
      "outputs": [
        {
          "output_type": "execute_result",
          "data": {
            "text/plain": [
              "([250000, 100, 10000, 100, 1000, 10], 261210)"
            ]
          },
          "metadata": {
            "tags": []
          },
          "execution_count": 32
        }
      ]
    }
  ]
}