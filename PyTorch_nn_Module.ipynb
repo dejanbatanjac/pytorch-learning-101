{
  "nbformat": 4,
  "nbformat_minor": 0,
  "metadata": {
    "colab": {
      "name": "PyTorch nn.Module",
      "version": "0.3.2",
      "provenance": [],
      "collapsed_sections": [],
      "include_colab_link": true
    },
    "kernelspec": {
      "name": "python3",
      "display_name": "Python 3"
    },
    "accelerator": "GPU"
  },
  "cells": [
    {
      "cell_type": "markdown",
      "metadata": {
        "id": "view-in-github",
        "colab_type": "text"
      },
      "source": [
        "<a href=\"https://colab.research.google.com/github/dejanbatanjac/pytorch-learning-101/blob/master/PyTorch_nn_Module.ipynb\" target=\"_parent\"><img src=\"https://colab.research.google.com/assets/colab-badge.svg\" alt=\"Open In Colab\"/></a>"
      ]
    },
    {
      "metadata": {
        "id": "s2BIFmvo19EO",
        "colab_type": "code",
        "outputId": "3b78d302-0deb-4858-9501-cf70f071c29b",
        "colab": {
          "base_uri": "https://localhost:8080/",
          "height": 72
        }
      },
      "cell_type": "code",
      "source": [
        "import torch\n",
        "import torch.nn as nn\n",
        "\n",
        "class Module0(torch.nn.Module):\n",
        "    def __init__(self):\n",
        "        super().__init__()\n",
        "        \n",
        "    # we don't return a thing (read:None), and don't take a thing\n",
        "    def forward(self)->None: \n",
        "        print(\"Module0:forward\")\n",
        "        \n",
        "# we create a module instance m0\n",
        "m0 = Module0().cuda()\n",
        "\n",
        "# we explicitely run the forward method\n",
        "m0.forward()\n",
        "        \n",
        "m0 = Module0().cuda() \n",
        "m0()\n",
        "\n",
        "print(m0)\n",
        "    \n"
      ],
      "execution_count": 0,
      "outputs": [
        {
          "output_type": "stream",
          "text": [
            "Module0:forward\n",
            "Module0:forward\n",
            "Module0()\n"
          ],
          "name": "stdout"
        }
      ]
    },
    {
      "metadata": {
        "id": "NeiQibqG2Q7M",
        "colab_type": "code",
        "outputId": "6e7d8fe2-4f57-49fc-f7f0-81065b689af1",
        "colab": {
          "base_uri": "https://localhost:8080/",
          "height": 272
        }
      },
      "cell_type": "code",
      "source": [
        "# these are identical\n",
        "m0()\n",
        "m0.forward()\n",
        "\n",
        "# 10 times\n",
        "print(\"10 more times\")\n",
        "[m0() for i in range(10)]\n",
        "\n",
        "print(m0)"
      ],
      "execution_count": 0,
      "outputs": [
        {
          "output_type": "stream",
          "text": [
            "Module0:forward\n",
            "Module0:forward\n",
            "10 more times\n",
            "Module0:forward\n",
            "Module0:forward\n",
            "Module0:forward\n",
            "Module0:forward\n",
            "Module0:forward\n",
            "Module0:forward\n",
            "Module0:forward\n",
            "Module0:forward\n",
            "Module0:forward\n",
            "Module0:forward\n",
            "Module0()\n"
          ],
          "name": "stdout"
        }
      ]
    },
    {
      "metadata": {
        "id": "MdKa46zZ2NML",
        "colab_type": "code",
        "outputId": "82bbef92-8a6b-4153-e820-d539d93d144b",
        "colab": {
          "base_uri": "https://localhost:8080/",
          "height": 35
        }
      },
      "cell_type": "code",
      "source": [
        "# This is how we count the number of parameters\n",
        "# Just for the record we don't have any parameter\n",
        "# in m0\n",
        "t = [o.numel() for o in m0.parameters() ]\n",
        "t, sum(t)"
      ],
      "execution_count": 0,
      "outputs": [
        {
          "output_type": "execute_result",
          "data": {
            "text/plain": [
              "([], 0)"
            ]
          },
          "metadata": {
            "tags": []
          },
          "execution_count": 4
        }
      ]
    },
    {
      "metadata": {
        "id": "Vtj4KNF1V0wP",
        "colab_type": "code",
        "outputId": "bc7a1ba6-0fbd-4016-8eec-90ce93f0166a",
        "colab": {
          "base_uri": "https://localhost:8080/",
          "height": 72
        }
      },
      "cell_type": "code",
      "source": [
        "import torch\n",
        "import torch.nn as nn\n",
        "\n",
        "# Creating the single linear layer = one matrix tranformation\n",
        "class Module1(torch.nn.Module):\n",
        "    def __init__(self):\n",
        "        super().__init__()\n",
        "        self.l1 = nn.Linear(10,100)        \n",
        "        \n",
        "    # we don't return a thing (read:None), and don't take a thing\n",
        "    def forward(self)->None: \n",
        "        print(\"Module1:forward\")\n",
        "        \n",
        "# we create a module instance m1\n",
        "m1 = Module1().cuda()\n",
        "print(m1)\n"
      ],
      "execution_count": 0,
      "outputs": [
        {
          "output_type": "stream",
          "text": [
            "Module1(\n",
            "  (l1): Linear(in_features=10, out_features=100, bias=True)\n",
            ")\n"
          ],
          "name": "stdout"
        }
      ]
    },
    {
      "metadata": {
        "id": "o5DnHRlwVsHu",
        "colab_type": "code",
        "outputId": "0de1205d-9ee1-4411-ddb1-02b3ea1e8596",
        "colab": {
          "base_uri": "https://localhost:8080/",
          "height": 35
        }
      },
      "cell_type": "code",
      "source": [
        "t = [p.numel() for p in m1.parameters() if p.requires_grad ]\n",
        "t, sum(t)\n",
        "\n",
        "#([1000, 100], 1100)\n",
        "# 1000 parameters in W and 100 in b and 1100 in total"
      ],
      "execution_count": 0,
      "outputs": [
        {
          "output_type": "execute_result",
          "data": {
            "text/plain": [
              "([1000, 100], 1100)"
            ]
          },
          "metadata": {
            "tags": []
          },
          "execution_count": 6
        }
      ]
    },
    {
      "metadata": {
        "id": "2gXqvS1QYNZ5",
        "colab_type": "code",
        "colab": {}
      },
      "cell_type": "code",
      "source": [
        "import torch\n",
        "import torch.nn as nn\n",
        "\n",
        "# adding few more different layers\n",
        "class Module2(nn.Module):\n",
        "    def __init__(self):\n",
        "        super().__init__()\n",
        "        self.l1 = nn.Linear(50*50,100)\n",
        "        self.l2 = nn.ReLU()\n",
        "        self.l3 = nn.Linear(100,100)\n",
        "        self.l4 = nn.Tanh()        \n",
        "        self.l5 = nn.Linear(100,10) \n",
        "        self.l6 = nn.LogSoftmax()\n",
        "        \n",
        "    # we don't return a thing (read:None), and don't take a thing\n",
        "    def forward(self)->None: \n",
        "        print(\"Module2:forward\")\n",
        "        \n",
        "# we create a module instance m2\n",
        "m2 = Module2().cuda()\n",
        "print(m2)\n"
      ],
      "execution_count": 0,
      "outputs": []
    },
    {
      "metadata": {
        "id": "7MXCzv178THE",
        "colab_type": "code",
        "outputId": "0316e2c6-d428-4e3c-bdc2-c47ac14d62ac",
        "colab": {
          "base_uri": "https://localhost:8080/",
          "height": 35
        }
      },
      "cell_type": "code",
      "source": [
        "#params analysis\n",
        "t = [p.numel() for p in m2.parameters() ]\n",
        "t, sum(t)\n",
        "\n",
        "#([250000, 100, 10000, 100, 1000, 10], 261210)\n",
        "# total number of parameter is ~ 261K"
      ],
      "execution_count": 0,
      "outputs": [
        {
          "output_type": "execute_result",
          "data": {
            "text/plain": [
              "([250000, 100, 10000, 100, 1000, 10], 261210)"
            ]
          },
          "metadata": {
            "tags": []
          },
          "execution_count": 8
        }
      ]
    },
    {
      "metadata": {
        "id": "xrBtLtDehvdR",
        "colab_type": "code",
        "colab": {
          "base_uri": "https://localhost:8080/",
          "height": 199
        },
        "outputId": "9660a57e-cf82-4301-f172-3df90bc15c60"
      },
      "cell_type": "code",
      "source": [
        "# let's rewrite our Module2 and create Module3\n",
        "# showing that what is in the __init__(self) method\n",
        "# is actually a sequential network\n",
        "\n",
        "import torch\n",
        "import torch.nn as nn\n",
        "\n",
        "sn = torch.nn.Sequential(\n",
        "        nn.Linear(50*50,100), \n",
        "        nn.ReLU(),\n",
        "        nn.Linear(100,100),\n",
        "        nn.Tanh(),        \n",
        "        nn.Linear(100,10), \n",
        "        nn.LogSoftmax()\n",
        ").cuda()\n",
        "        \n",
        "# adding few more different layers\n",
        "class Module3(nn.Module):\n",
        "    def __init__(self):\n",
        "        super().__init__()\n",
        "        self.l1 = sn\n",
        "        \n",
        "    # we don't return a thing (read:None), and don't take a thing\n",
        "    def forward(self)->None: \n",
        "        print(\"Module3:forward\")\n",
        "        \n",
        "# we create a module instance m2\n",
        "m3 = Module3().cuda()\n",
        "print(m3)"
      ],
      "execution_count": 1,
      "outputs": [
        {
          "output_type": "stream",
          "text": [
            "Module3(\n",
            "  (l1): Sequential(\n",
            "    (0): Linear(in_features=2500, out_features=100, bias=True)\n",
            "    (1): ReLU()\n",
            "    (2): Linear(in_features=100, out_features=100, bias=True)\n",
            "    (3): Tanh()\n",
            "    (4): Linear(in_features=100, out_features=10, bias=True)\n",
            "    (5): LogSoftmax()\n",
            "  )\n",
            ")\n"
          ],
          "name": "stdout"
        }
      ]
    },
    {
      "metadata": {
        "id": "SQcD-8qenB9X",
        "colab_type": "code",
        "outputId": "d59ccc67-ddf6-484a-e3a5-2b5977ca7ac4",
        "colab": {
          "base_uri": "https://localhost:8080/",
          "height": 35
        }
      },
      "cell_type": "code",
      "source": [
        "#params analysis\n",
        "t = [p.numel() for p in m3.parameters() ]\n",
        "t, sum(t)"
      ],
      "execution_count": 0,
      "outputs": [
        {
          "output_type": "execute_result",
          "data": {
            "text/plain": [
              "([250000, 100, 10000, 100, 1000, 10], 261210)"
            ]
          },
          "metadata": {
            "tags": []
          },
          "execution_count": 10
        }
      ]
    }
  ]
}