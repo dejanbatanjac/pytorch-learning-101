{
  "nbformat": 4,
  "nbformat_minor": 0,
  "metadata": {
    "colab": {
      "name": "PyTorch nn.Module",
      "version": "0.3.2",
      "provenance": [],
      "collapsed_sections": [],
      "include_colab_link": true
    },
    "kernelspec": {
      "name": "python3",
      "display_name": "Python 3"
    },
    "accelerator": "GPU"
  },
  "cells": [
    {
      "cell_type": "markdown",
      "metadata": {
        "id": "view-in-github",
        "colab_type": "text"
      },
      "source": [
        "<a href=\"https://colab.research.google.com/github/dejanbatanjac/pytorch-learning-101/blob/master/PyTorch_nn_Module.ipynb\" target=\"_parent\"><img src=\"https://colab.research.google.com/assets/colab-badge.svg\" alt=\"Open In Colab\"/></a>"
      ]
    },
    {
      "cell_type": "code",
      "metadata": {
        "id": "s2BIFmvo19EO",
        "colab_type": "code",
        "outputId": "a7cb655b-27b0-4064-9afd-a7a8bf6c9688",
        "colab": {
          "base_uri": "https://localhost:8080/",
          "height": 54
        }
      },
      "source": [
        "import torch\n",
        "import torch.nn as nn\n",
        "\n",
        "class Module0(torch.nn.Module):\n",
        "    def __init__(self):\n",
        "        super().__init__()\n",
        "        \n",
        "    # we don't return a thing \n",
        "    def forward(self)->None: \n",
        "        print(\"Module0:forward\")\n",
        "        \n",
        "# we create a module instance m0\n",
        "m0 = Module0().cuda()\n",
        "\n",
        "# we explicitely run the forward method\n",
        "m0.forward()\n",
        "        \n",
        "m0 = Module0().cuda() \n",
        "m0()\n",
        "\n",
        "\n",
        "    \n"
      ],
      "execution_count": 2,
      "outputs": [
        {
          "output_type": "stream",
          "text": [
            "Module0:forward\n",
            "Module0:forward\n"
          ],
          "name": "stdout"
        }
      ]
    },
    {
      "cell_type": "code",
      "metadata": {
        "id": "NeiQibqG2Q7M",
        "colab_type": "code",
        "outputId": "f630e92c-1b2b-4407-b93e-2f374134b735",
        "colab": {
          "base_uri": "https://localhost:8080/",
          "height": 54
        }
      },
      "source": [
        "# these are not identical even tough it looks like\n",
        "m0()\n",
        "m0.forward()\n",
        "\n",
        "# we should always call m0()\n"
      ],
      "execution_count": 3,
      "outputs": [
        {
          "output_type": "stream",
          "text": [
            "Module0:forward\n",
            "Module0:forward\n"
          ],
          "name": "stdout"
        }
      ]
    },
    {
      "cell_type": "code",
      "metadata": {
        "id": "MdKa46zZ2NML",
        "colab_type": "code",
        "outputId": "78a17a6a-6e7f-416e-9da8-88c0b4d8c9e1",
        "colab": {
          "base_uri": "https://localhost:8080/",
          "height": 36
        }
      },
      "source": [
        "#Problems\n",
        "\n",
        "# P1. we have no params so we cannot learn\n",
        "# P2. our forward doesn't take any input and doesn't returns any output\n",
        "\n",
        "t = [o.numel() for o in m0.parameters() ]\n",
        "t, sum(t)"
      ],
      "execution_count": 4,
      "outputs": [
        {
          "output_type": "execute_result",
          "data": {
            "text/plain": [
              "([], 0)"
            ]
          },
          "metadata": {
            "tags": []
          },
          "execution_count": 4
        }
      ]
    },
    {
      "cell_type": "code",
      "metadata": {
        "id": "Vtj4KNF1V0wP",
        "colab_type": "code",
        "colab": {}
      },
      "source": [
        "import torch\n",
        "import torch.nn as nn\n",
        "\n",
        "# Creating the single linear layer = one matrix tranformation\n",
        "class Module1(torch.nn.Module):\n",
        "    def __init__(self):\n",
        "        super().__init__()\n",
        "        self.l1 = nn.Linear(10,100)        \n",
        "        \n",
        "    # we don't return a thing (read:None), and don't take a thing\n",
        "    def forward(self)->None: \n",
        "        print(\"Module1:forward\")\n",
        "        \n",
        "# we create a module instance m1\n",
        "m1 = Module1().cuda()\n",
        "\n"
      ],
      "execution_count": 0,
      "outputs": []
    },
    {
      "cell_type": "code",
      "metadata": {
        "id": "o5DnHRlwVsHu",
        "colab_type": "code",
        "outputId": "104304b1-de9a-4d97-fcb0-0a928b6ac20a",
        "colab": {
          "base_uri": "https://localhost:8080/",
          "height": 36
        }
      },
      "source": [
        "t = [p.numel() for p in m1.parameters() if p.requires_grad ]\n",
        "t, sum(t)\n",
        "\n",
        "#([1000, 100], 1100)\n",
        "# 1000 parameters in W and 100 in b and 1100 in total"
      ],
      "execution_count": 0,
      "outputs": [
        {
          "output_type": "execute_result",
          "data": {
            "text/plain": [
              "([1000, 100], 1100)"
            ]
          },
          "metadata": {
            "tags": []
          },
          "execution_count": 6
        }
      ]
    },
    {
      "cell_type": "code",
      "metadata": {
        "id": "2gXqvS1QYNZ5",
        "colab_type": "code",
        "colab": {}
      },
      "source": [
        "import torch\n",
        "import torch.nn as nn\n",
        "\n",
        "# adding few more different layers\n",
        "class Module2(nn.Module):\n",
        "    def __init__(self):\n",
        "        super().__init__()\n",
        "        self.l1 = nn.Linear(50*50,100)\n",
        "        self.l2 = nn.ReLU()\n",
        "        self.l3 = nn.Linear(100,100)\n",
        "        self.l4 = nn.Tanh()        \n",
        "        self.l5 = nn.Linear(100,10) \n",
        "        self.l6 = nn.LogSoftmax()\n",
        "        \n",
        "    # we don't return a thing (read:None), and don't take a thing\n",
        "    def forward(self)->None: \n",
        "        print(\"Module2:forward\")\n",
        "        \n",
        "# we create a module instance m2\n",
        "m2 = Module2().cuda()\n",
        "\n"
      ],
      "execution_count": 0,
      "outputs": []
    },
    {
      "cell_type": "code",
      "metadata": {
        "id": "7MXCzv178THE",
        "colab_type": "code",
        "outputId": "203fe615-457c-4a3b-d61a-b3b1c19e3ff7",
        "colab": {
          "base_uri": "https://localhost:8080/",
          "height": 36
        }
      },
      "source": [
        "#params analysis\n",
        "t = [p.numel() for p in m2.parameters() ]\n",
        "t, sum(t)\n",
        "\n",
        "#([250000, 100, 10000, 100, 1000, 10], 261210)\n",
        "# total number of parameter is ~ 261K"
      ],
      "execution_count": 0,
      "outputs": [
        {
          "output_type": "execute_result",
          "data": {
            "text/plain": [
              "([250000, 100, 10000, 100, 1000, 10], 261210)"
            ]
          },
          "metadata": {
            "tags": []
          },
          "execution_count": 20
        }
      ]
    },
    {
      "cell_type": "code",
      "metadata": {
        "id": "xrBtLtDehvdR",
        "colab_type": "code",
        "colab": {}
      },
      "source": [
        "# let's rewrite our Module2 and create Module3\n",
        "# showing that what is in the __init__(self) method\n",
        "# is actually a sequential network\n",
        "\n",
        "import torch\n",
        "import torch.nn as nn\n",
        "\n",
        "sn = torch.nn.Sequential(\n",
        "        nn.Linear(50*50,100), \n",
        "        nn.ReLU(),\n",
        "        nn.Linear(100,100),\n",
        "        nn.Tanh(),        \n",
        "        nn.Linear(100,10), \n",
        "        nn.LogSoftmax()\n",
        ").cuda()\n",
        "        \n",
        "# adding few more different layers\n",
        "class Module3(nn.Module):\n",
        "    def __init__(self):\n",
        "        super().__init__()\n",
        "        self.l1 = sn\n",
        "        \n",
        "    # we don't return a thing (read:None), and don't take a thing\n",
        "    def forward(self)->None: \n",
        "        print(\"Module3:forward\")\n",
        "        \n",
        "# we create a module instance m2\n",
        "m3 = Module3().cuda()"
      ],
      "execution_count": 0,
      "outputs": []
    },
    {
      "cell_type": "code",
      "metadata": {
        "id": "SQcD-8qenB9X",
        "colab_type": "code",
        "outputId": "e7ec5aa7-1b5d-42c5-a8b6-6e91529f50b4",
        "colab": {
          "base_uri": "https://localhost:8080/",
          "height": 148
        }
      },
      "source": [
        "#params analysis\n",
        "t = [p.numel() for p in m3.parameters() ]\n",
        "print(t, sum(t))\n",
        "\n",
        "layers=[p.data for p in m3.parameters()]\n",
        "\n",
        "#x=[print(\"layer\", i, layers[i].shape) for i in range(len(layers))]"
      ],
      "execution_count": 0,
      "outputs": [
        {
          "output_type": "stream",
          "text": [
            "[250000, 100, 10000, 100, 1000, 10] 261210\n",
            "layer 0 torch.Size([100, 2500])\n",
            "layer 1 torch.Size([100])\n",
            "layer 2 torch.Size([100, 100])\n",
            "layer 3 torch.Size([100])\n",
            "layer 4 torch.Size([10, 100])\n",
            "layer 5 torch.Size([10])\n"
          ],
          "name": "stdout"
        }
      ]
    },
    {
      "cell_type": "code",
      "metadata": {
        "id": "mXVsTn0AwOs1",
        "colab_type": "code",
        "outputId": "8d2f87ea-9544-47cc-876c-20f8e1958c14",
        "colab": {
          "base_uri": "https://localhost:8080/",
          "height": 55
        }
      },
      "source": [
        "params = list(m3.parameters())\n",
        "print(len(params))\n",
        "print(params[0].size())  # conv1's .weight"
      ],
      "execution_count": 0,
      "outputs": [
        {
          "output_type": "stream",
          "text": [
            "6\n",
            "torch.Size([100, 2500])\n"
          ],
          "name": "stdout"
        }
      ]
    }
  ]
}