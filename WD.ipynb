{
  "nbformat": 4,
  "nbformat_minor": 0,
  "metadata": {
    "colab": {
      "name": "WD.ipynb",
      "version": "0.3.2",
      "provenance": [],
      "include_colab_link": true
    },
    "kernelspec": {
      "name": "python3",
      "display_name": "Python 3"
    }
  },
  "cells": [
    {
      "cell_type": "markdown",
      "metadata": {
        "id": "view-in-github",
        "colab_type": "text"
      },
      "source": [
        "<a href=\"https://colab.research.google.com/github/dejanbatanjac/pytorch-learning-101/blob/master/WD.ipynb\" target=\"_parent\"><img src=\"https://colab.research.google.com/assets/colab-badge.svg\" alt=\"Open In Colab\"/></a>"
      ]
    },
    {
      "cell_type": "code",
      "metadata": {
        "id": "rCRcWfqokYWd",
        "colab_type": "code",
        "colab": {
          "base_uri": "https://localhost:8080/",
          "height": 783
        },
        "outputId": "d0426ec1-728b-457d-cef2-0a13d11533aa"
      },
      "source": [
        "import torch\n",
        "import torch.nn as nn\n",
        "import torch.nn.functional as F\n",
        "from torch.utils.data import DataLoader, Dataset, TensorDataset\n",
        "from torch.optim import *\n",
        "import torchvision\n",
        "import matplotlib.pyplot as plt\n",
        "\n",
        "dl = DataLoader( torchvision.datasets.MNIST('/data/mnist', train=True, download=True), shuffle=False)\n",
        "\n",
        "tensor = dl.dataset.data\n",
        "tensor = tensor.to(dtype=torch.float32)\n",
        "tr = tensor.reshape(tensor.size(0), -1) \n",
        "tr = tr/128 # tr = tr/255\n",
        "targets = dl.dataset.targets\n",
        "targets = targets.to(dtype=torch.long)\n",
        "\n",
        "x_train = tr[0:50000-1]\n",
        "y_train = targets[0:50000-1]\n",
        "x_valid = tr[50000:60000-1]\n",
        "y_valid = targets[50000:60000-1]\n",
        "\n",
        "bs=64\n",
        "\n",
        "train_ds = TensorDataset(x_train, y_train)\n",
        "train_dl = DataLoader(train_ds, batch_size=bs, drop_last=False, shuffle=True)\n",
        "\n",
        "valid_ds = TensorDataset(x_valid, y_valid)\n",
        "valid_dl = DataLoader(valid_ds, batch_size=bs * 2)\n",
        "\n",
        "loaders={}\n",
        "loaders['train'] = train_dl\n",
        "loaders['valid'] = valid_dl\n",
        "\n",
        "\n",
        "class M(nn.Module):\n",
        "    'custom module'\n",
        "    def __init__(self):\n",
        "        super().__init__()\n",
        "        self.lin = nn.Linear(784, 10)\n",
        "      \n",
        "    def forward(self, xb):\n",
        "        return self.lin(xb)\n",
        "\n",
        "    \n",
        "colors = { \"b\": \"blue\", \"g\": \"green\",  \"r\": \"red\", \"c\": \"cyan\", \"m\": \"magenta\", \"y\": \"yellow\", \"k\": \"black\", \"w\": \"white\" }\n",
        "\n",
        "\n",
        "def probe(ax, model, criterion, optimizer, bs, epochs, lr, wd_factor, color):\n",
        "    \n",
        "    losses=[]\n",
        "    for epoch in range(0,epochs):\n",
        "        train_loss = 0\n",
        "        valid_loss = 0    \n",
        "        print(f\"Epoch {epoch}\")\n",
        "\n",
        "        model.train()\n",
        "        for i, (data,target) in enumerate(loaders['train']):                \n",
        "            optimizer.zero_grad()\n",
        "            output = model(data)\n",
        "            wd = 0.\n",
        "            for p in model.parameters(): \n",
        "                wd += (p**2).sum()\n",
        "\n",
        "            loss = criterion(output, target)+wd*wd_factor \n",
        "            train_loss += loss.item()\n",
        "            loss.backward()            \n",
        "            optimizer.step()\n",
        "            if (i%1==0):\n",
        "                #print(f\"Batch {i}, loss {loss.item()}\")\n",
        "                losses.append(loss.item())\n",
        "\n",
        "        model.eval()\n",
        "        for i, (data,target) in enumerate(loaders['valid']):                \n",
        "            output = model(data)\n",
        "            loss = criterion(output,target)\n",
        "            valid_loss += loss.item()        \n",
        "\n",
        "        train_loss = train_loss/len(loaders['train'])\n",
        "        valid_loss = valid_loss/len(loaders['valid'])        \n",
        "\n",
        "\n",
        "        c = colors[color]\n",
        "        print(f\"Color: {c}\") \n",
        "        print(f\"Train loss: {train_loss}\")\n",
        "        print(f\"Validation loss: {valid_loss}\")\n",
        "       \n",
        "        \n",
        "        ax.plot(losses, color)\n",
        "        \n",
        "\n",
        "    \n",
        "\n",
        "\n",
        "fig, ax = plt.subplots(1, 2)\n",
        "for _ in ax:\n",
        "    _.set_ylim(0,3)\n",
        "\n",
        "fig.suptitle('adam ;lr = 1e-3; no WD vs. 4e-1 WD')\n",
        "fig.set_figheight(5)\n",
        "fig.set_figwidth(15)\n",
        "\n",
        "\n",
        "\n",
        "criterion = nn.CrossEntropyLoss()\n",
        "bs=64\n",
        "epochs = 1\n",
        "wd_factor = 0.0\n",
        "\n",
        "\n",
        "lr = 1e-3\n",
        "wd_factor=0\n",
        "model = M()\n",
        "optimizer = torch.optim.Adam(model.parameters(), lr=lr,  weight_decay=0 )\n",
        "probe(ax[0], model, criterion, optimizer, bs, epochs, lr, wd_factor, \"k\") #black\n",
        "\n",
        "\n",
        "lr = 1e-3\n",
        "wd_factor=0\n",
        "model = M()\n",
        "optimizer = torch.optim.Adam(model.parameters(), lr=lr,  weight_decay=4e-1 )\n",
        "probe(ax[1], model, criterion, optimizer, bs, epochs, lr, wd_factor, \"c\") #cyan"
      ],
      "execution_count": 2,
      "outputs": [
        {
          "output_type": "stream",
          "text": [
            "\r0it [00:00, ?it/s]"
          ],
          "name": "stderr"
        },
        {
          "output_type": "stream",
          "text": [
            "Downloading http://yann.lecun.com/exdb/mnist/train-images-idx3-ubyte.gz to /data/mnist/MNIST/raw/train-images-idx3-ubyte.gz\n"
          ],
          "name": "stdout"
        },
        {
          "output_type": "stream",
          "text": [
            "9920512it [00:01, 9490698.69it/s]                            \n"
          ],
          "name": "stderr"
        },
        {
          "output_type": "stream",
          "text": [
            "Extracting /data/mnist/MNIST/raw/train-images-idx3-ubyte.gz\n"
          ],
          "name": "stdout"
        },
        {
          "output_type": "stream",
          "text": [
            "  0%|          | 0/28881 [00:00<?, ?it/s]"
          ],
          "name": "stderr"
        },
        {
          "output_type": "stream",
          "text": [
            "Downloading http://yann.lecun.com/exdb/mnist/train-labels-idx1-ubyte.gz to /data/mnist/MNIST/raw/train-labels-idx1-ubyte.gz\n"
          ],
          "name": "stdout"
        },
        {
          "output_type": "stream",
          "text": [
            "32768it [00:00, 136734.77it/s]           \n",
            "  0%|          | 0/1648877 [00:00<?, ?it/s]"
          ],
          "name": "stderr"
        },
        {
          "output_type": "stream",
          "text": [
            "Extracting /data/mnist/MNIST/raw/train-labels-idx1-ubyte.gz\n",
            "Downloading http://yann.lecun.com/exdb/mnist/t10k-images-idx3-ubyte.gz to /data/mnist/MNIST/raw/t10k-images-idx3-ubyte.gz\n"
          ],
          "name": "stdout"
        },
        {
          "output_type": "stream",
          "text": [
            "1654784it [00:00, 2237271.47it/s]                            \n",
            "0it [00:00, ?it/s]"
          ],
          "name": "stderr"
        },
        {
          "output_type": "stream",
          "text": [
            "Extracting /data/mnist/MNIST/raw/t10k-images-idx3-ubyte.gz\n",
            "Downloading http://yann.lecun.com/exdb/mnist/t10k-labels-idx1-ubyte.gz to /data/mnist/MNIST/raw/t10k-labels-idx1-ubyte.gz\n"
          ],
          "name": "stdout"
        },
        {
          "output_type": "stream",
          "text": [
            "8192it [00:00, 53198.50it/s]            \n"
          ],
          "name": "stderr"
        },
        {
          "output_type": "stream",
          "text": [
            "Extracting /data/mnist/MNIST/raw/t10k-labels-idx1-ubyte.gz\n",
            "Processing...\n",
            "Done!\n",
            "Epoch 0\n",
            "Color: black\n",
            "Train loss: 0.46914794568515494\n",
            "Validation loss: 0.30531654162686084\n",
            "Epoch 0\n",
            "Color: cyan\n",
            "Train loss: 0.8399506341618346\n",
            "Validation loss: 0.7450754227517526\n"
          ],
          "name": "stdout"
        },
        {
          "output_type": "display_data",
          "data": {
            "image/png": "[encoded data removed]",
            "text/plain": [
              "<Figure size 1080x360 with 2 Axes>"
            ]
          },
          "metadata": {
            "tags": []
          }
        }
      ]
    }
  ]
}