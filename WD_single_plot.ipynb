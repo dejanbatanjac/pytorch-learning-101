{
  "nbformat": 4,
  "nbformat_minor": 0,
  "metadata": {
    "colab": {
      "name": "WD single plot",
      "version": "0.3.2",
      "provenance": [],
      "collapsed_sections": [],
      "include_colab_link": true
    },
    "kernelspec": {
      "name": "python3",
      "display_name": "Python 3"
    }
  },
  "cells": [
    {
      "cell_type": "markdown",
      "metadata": {
        "id": "view-in-github",
        "colab_type": "text"
      },
      "source": [
        "<a href=\"https://colab.research.google.com/github/dejanbatanjac/pytorch-learning-101/blob/master/WD_single_plot.ipynb\" target=\"_parent\"><img src=\"https://colab.research.google.com/assets/colab-badge.svg\" alt=\"Open In Colab\"/></a>"
      ]
    },
    {
      "cell_type": "code",
      "metadata": {
        "id": "E7L6XdSoaith",
        "colab_type": "code",
        "outputId": "7ea8cdcf-b349-401f-82ad-31e23ed0eaaa",
        "colab": {
          "base_uri": "https://localhost:8080/",
          "height": 343
        }
      },
      "source": [
        "import torch\n",
        "import torch.nn as nn\n",
        "import torch.nn.functional as F\n",
        "from torch.utils.data import DataLoader, Dataset, TensorDataset\n",
        "from torch.optim import *\n",
        "import torchvision\n",
        "import matplotlib.pyplot as plt\n",
        "\n",
        "dl = DataLoader( torchvision.datasets.MNIST('/data/mnist', train=True, download=True), shuffle=False)\n",
        "\n",
        "tensor = dl.dataset.data\n",
        "tensor = tensor.to(dtype=torch.float32)\n",
        "tr = tensor.reshape(tensor.size(0), -1) \n",
        "tr = tr/128 # tr = tr/255\n",
        "targets = dl.dataset.targets\n",
        "targets = targets.to(dtype=torch.long)\n",
        "\n",
        "x_train = tr[0:50000-1]\n",
        "y_train = targets[0:50000-1]\n",
        "x_valid = tr[50000:60000-1]\n",
        "y_valid = targets[50000:60000-1]\n",
        "\n",
        "bs=64\n",
        "\n",
        "train_ds = TensorDataset(x_train, y_train)\n",
        "train_dl = DataLoader(train_ds, batch_size=bs, drop_last=False, shuffle=True)\n",
        "\n",
        "valid_ds = TensorDataset(x_valid, y_valid)\n",
        "valid_dl = DataLoader(valid_ds, batch_size=bs * 2)\n",
        "\n",
        "loaders={}\n",
        "loaders['train'] = train_dl\n",
        "loaders['valid'] = valid_dl\n",
        "\n",
        "\n",
        "class M(nn.Module):\n",
        "    'custom module'\n",
        "    def __init__(self):\n",
        "        super().__init__()\n",
        "        self.lin = nn.Linear(784, 10)\n",
        "      \n",
        "    def forward(self, xb):\n",
        "        return self.lin(xb)\n",
        "\n",
        "#     def forward(self, xb):\n",
        "#         return F.relu(self.lin(xb))\n",
        "\n",
        "model = M()\n",
        "criterion = nn.CrossEntropyLoss()\n",
        "\n",
        "bs=64\n",
        "epochs = 1\n",
        "lr = 0.1\n",
        "wd_factor = 0.00001\n",
        "# optimizer = torch.optim.Adam(model.parameters(), lr=lr, weight_decay=0.1)\n",
        "optimizer = torch.optim.SGD(model.parameters(), lr=lr)#, momentum=0.9)\n",
        "losses=[]\n",
        "for epoch in range(0,epochs):\n",
        "    train_loss = 0\n",
        "    valid_loss = 0    \n",
        "    print(f\"Epoch {epoch}\")\n",
        "\n",
        "    model.train()\n",
        "    for i, (data,target) in enumerate(loaders['train']):                \n",
        "        optimizer.zero_grad()\n",
        "        output = model(data)\n",
        "        wd = 0.\n",
        "        for p in model.parameters(): \n",
        "            wd += (p**2).sum()\n",
        "         \n",
        "        loss = criterion(output, target)+wd*wd_factor \n",
        "        train_loss += loss.item()\n",
        "        loss.backward()            \n",
        "        optimizer.step()\n",
        "        if (i%1==0):\n",
        "            #print(f\"Batch {i}, loss {loss.item()}\")\n",
        "            losses.append(loss.item())\n",
        "    \n",
        "    model.eval()\n",
        "    for i, (data,target) in enumerate(loaders['valid']):                \n",
        "        output = model(data)\n",
        "        loss = criterion(output,target)\n",
        "        valid_loss += loss.item()        \n",
        "        \n",
        "    train_loss = train_loss/len(loaders['train'])\n",
        "    valid_loss = valid_loss/len(loaders['valid'])        \n",
        "        \n",
        "            \n",
        "    print(f\"Train loss: {train_loss}\")\n",
        "    print(f\"Validation loss: {valid_loss}\")\n",
        "    plt.plot(losses)\n",
        "    print(\"wd_factor\", wd_factor)"
      ],
      "execution_count": 0,
      "outputs": [
        {
          "output_type": "stream",
          "text": [
            "Epoch 0\n",
            "Train loss: 0.40250825516098293\n",
            "Validation loss: 0.36129179710074316\n",
            "wd_factor 1e-05\n"
          ],
          "name": "stdout"
        },
        {
          "output_type": "display_data",
          "data": {
            "image/png": "[encoded data removed]",
            "text/plain": [
              "<Figure size 432x288 with 1 Axes>"
            ]
          },
          "metadata": {
            "tags": []
          }
        }
      ]
    }
  ]
}